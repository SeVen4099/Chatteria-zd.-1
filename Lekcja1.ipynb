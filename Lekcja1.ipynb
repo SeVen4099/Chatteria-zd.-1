{
  "nbformat": 4,
  "nbformat_minor": 0,
  "metadata": {
    "colab": {
      "provenance": [],
      "authorship_tag": "ABX9TyOHYPUIeE2/CVjEybGT2ulU",
      "include_colab_link": true
    },
    "kernelspec": {
      "name": "python3",
      "display_name": "Python 3"
    },
    "language_info": {
      "name": "python"
    }
  },
  "cells": [
    {
      "cell_type": "markdown",
      "metadata": {
        "id": "view-in-github",
        "colab_type": "text"
      },
      "source": [
        "<a href=\"https://colab.research.google.com/github/SeVen4099/Chatteria-zd.-1/blob/main/Lekcja1.ipynb\" target=\"_parent\"><img src=\"https://colab.research.google.com/assets/colab-badge.svg\" alt=\"Open In Colab\"/></a>"
      ]
    },
    {
      "cell_type": "code",
      "execution_count": null,
      "metadata": {
        "id": "QBgZtapACMW3"
      },
      "outputs": [],
      "source": []
    },
    {
      "cell_type": "markdown",
      "source": [
        "Zad. 1\n",
        "\n",
        "W mojej opinii następujące zadania wymagają inteligencji człowieka:\n",
        "*   Programowanie (pisanie programów komputerowych), ponieważ aby dany program napisać, w tym i również czat obsługiwany przez sztuczną inteligencję to potrzebna jest ludzka kreatywność, dzięki której autor wpadnie na pomysł napisania danego programu.\n",
        "*   Komponowanie muzyki, ponieważ podobnie jak w przykładzie wyżej potrzebna jest w tym przypadku ludzka ręka pod kątem kreatywnym jak i również inteligencji emocjonalnej.\n",
        "*   Testowanie oprogramowania, ponieważ jeżeli jako oprogramowanie komputerowe zaliczymy również grę komputerową to potrzebna jest ingerencja człowieka, a w tym przypadku testera gier który zwróci uwagę na graficzne/estetyczne błędy danej produkcji.\n",
        "*   Rozwiązywanie układów równań/symboliczne obliczanie pochodnych funkcji/symboliczne całkowanie funkcji, ponieważ co prawda aktualnie posiadamy boty które potrafią obliczyć podstawowe równania, aczkolwiek przy bardziej skomplikowanych zadaniach, jak te wymienione w tym podpunkcie, niezbędna będzie ingerencja człowieka który rozumie koncepcje matematyczne i umiejętnie je wykorzysta.\n",
        "\n",
        "\n",
        "Zad. 2\n",
        "\n",
        "W mojej opinii następujące problemy można uznać za mieszczące się w zakresie sztucznej inteligencji:\n",
        "*   Streszczanie tekstu, ponieważ sztuczna inteligencja za pośrednictwem odpowiednio napisanego przez nas polecenia jest w stanie streścić dany tekst, przy okazji wyodrębniając z niego wszystkie bardziej, bądź mniej np. szczegółowe informacje bazując na artykułach z internetu.\n",
        "*   Tłumaczenie tekstu, ponieważ już aktualnie mamy napisane programy oraz strony internetowe, które tłumaczą tekst z danego języka na nasz ojczysty, aczkolwiek nie zawsze jest to w 100% idealne przełożenie, ale zdecydowanie poradzi sobie np. z angielskim na poziomie komunikatywnym.\n",
        "*   Klasyfikacja tesktu do kategorii tematycznych, ponieważ istnieje już proces przypisywania wstępnie ustalonych kategorii do otwartych dokumentów tekstowych za pomocą systemów sztucznej inteligencji.\n",
        "*   Odpowiadanie na proste pytania zadawane w języku naturalnym, ponieważ sztuczna inteligencja wykorzystuje baze informacji zgromadzonych na internecie w postaci różnych artykułów, dzięki którym jest w stanie odpowiedzieć na takie proste pytania, jak np. Jaka jest stolica Polski?\n",
        "*   Kierowanie samochodem, ponieważ już teraz w Stanach Zjednoczonych jeżdżą autonomiczne taksówki, które nie wymagają do ich prowadzenia kierowcy, a to wszystko dzięki najnowszym systemom wprowadzonym do sztucznej inteligencji tj. rozpoznawanie zagrożenia na drodze i znaków drogowych.\n",
        "\n",
        "\n",
        "Zad. 3\n",
        "\n",
        "W mojej opinii rodzaje komunikacji, które mogą być obecnie skutecznie imitowane przez sztuczne systemy to:\n",
        "*   Odpowiadanie na pytania klientów w telefonicznej infolinii, ponieważ już teraz niektóre firmy stosują taką praktykę poprzez zaprogramowanie bota z syntezatorem mowy, który odpowiada na słowne pytania rozmówcy związane z danym problemem.\n",
        "*   Odpowiadanie na pytania klientów w internetowej infolinii, ponieważ tutaj akurat większość firm tworzy sztucznych asystentów w postaci botów tekstowych, którzy również odpowiedzą na problem zadany przez rozmówcę.\n",
        "\n",
        "\n",
        "Zad. 4\n",
        "1.   Różnica pomiędzy botem przygotowanym na Test Turinga (ChatGPT), a botem asystentem (Cleverbot) jest taka, że ten pierwszy został zaprogramowany w taki sposób, aby naśladować rozmowę w stopniu, w którym ciężko będzie odróżnić czy rozmówca prowadzi konwersację z człowiekiem czy sztucznym bytem, gdzie w drugim przypadku asystent wykonuje proste komendy sprowadzające się najczęściej do szybkiego znalezienia danej informacji w internecie.\n",
        "2.\n",
        "\n",
        "  a) ChatGPT opowiedział żart, niestety był on pozbawiony satyry i sensu.\n",
        "CleverBot nie opowiedział.\n",
        "\n",
        "  b) ChatGPT z większością cytatów nie miał najmniejszych problemów.\n",
        "CleverBot znał cytat, lecz nie umiał przytoczyć kto go powiedział, nie zapamiętuje poprzednich wiadomości.\n",
        "\n",
        "  c) ChatGPT robi to bez większego problemu i raczej trafnie. CleverBot nie ma takiej funkcjonalności.\n",
        "\n",
        "  d) ChatGPT przyjmuje dużą ilość pytań, lecz wtedy odpowiedzi są mniej precyzyjne, niż jakby zadało się te pytania pojedyńczo. CleverBot przyjmuje maksymalnie jedno pytanie lub twierdzenie.\n",
        "\n",
        "  e) ChatGPT potrafi to zrobić, jednak trzeba precyzyjnie oznaczyć moment do którego chcemy powrócić. CleverBot nie zapamiętuje rozmowy.\n",
        "\n",
        "  g) ChatGPT odpowiada wymijająco na tematy związane z polityką, historią oraz w większości tematów uznanych w społeczeństwie za polaryzujące. CleverBot odpowiada wymijająco, jeśli pytanie jest zbyt szczegółowe lub dotyczy wiedzy do której nie ma dostępu.\n",
        "\n",
        "  h) Dla żadnego z nich nie jest to problem.\n",
        "\n",
        "  i) ChatGPT nie ma problemu z utrzymaniem wątku, jak również można do niego wracać po jakimś czasie. CleverBot prowadzi dosyć \"ludzką\" konwersację, aczkolwiek jego możliwości nie przekraczają kilku wypowiedzi w danym temacie.\n",
        "\n",
        "3.   ChatGPT charakteryzuje się wyższą elastycznością, precyzyjnością oraz zdolnością do utrzymania długich i spójnych rozmów w porównaniu z CleverBotem. Umiejętności ChatuGPT w zakresie przetwarzania wielu pytań, przytaczania cytatów, a także utrzymywania kontekstu rozmowy stawiają go na wyższej pozycji, zwłaszcza w porównaniu do bardziej ograniczonego CleverBota, który najlepiej sprawdza się w krótszych i prostszych interakcjach.\n",
        "4.   Konwersacja jest jałowa, szybko sie kończy bez ingerencji i korekty wiadomości.\n",
        "5.   Zrobione 😄\n",
        "\n",
        "\n",
        "\n",
        "\n",
        "\n",
        "\n",
        "\n",
        "\n",
        "\n",
        "\n",
        "\n",
        "\n",
        "\n",
        "\n",
        "\n",
        "\n",
        "\n",
        "\n",
        "\n",
        "\n",
        "\n",
        "\n",
        "\n",
        "\n",
        "\n",
        "\n",
        "\n",
        "\n",
        "\n",
        "\n"
      ],
      "metadata": {
        "id": "6wr_XcuXGvGH"
      }
    }
  ]
}