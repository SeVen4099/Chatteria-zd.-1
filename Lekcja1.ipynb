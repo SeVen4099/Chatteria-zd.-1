{
  "nbformat": 4,
  "nbformat_minor": 0,
  "metadata": {
    "colab": {
      "provenance": [],
      "authorship_tag": "ABX9TyP9j9aU1tf8F34iQWyIHzwL",
      "include_colab_link": true
    },
    "kernelspec": {
      "name": "python3",
      "display_name": "Python 3"
    },
    "language_info": {
      "name": "python"
    }
  },
  "cells": [
    {
      "cell_type": "markdown",
      "metadata": {
        "id": "view-in-github",
        "colab_type": "text"
      },
      "source": [
        "<a href=\"https://colab.research.google.com/github/SeVen4099/Chatteria-zd.-1/blob/main/Lekcja1.ipynb\" target=\"_parent\"><img src=\"https://colab.research.google.com/assets/colab-badge.svg\" alt=\"Open In Colab\"/></a>"
      ]
    },
    {
      "cell_type": "code",
      "execution_count": null,
      "metadata": {
        "id": "QBgZtapACMW3"
      },
      "outputs": [],
      "source": []
    },
    {
      "cell_type": "markdown",
      "source": [
        "Zad. 1\n",
        "W mojej opinii następujące zadania wymagają inteligencji człowieka:\n",
        "*   programowanie (pisanie programów komputerowych), ponieważ aby dany program napisać, w tym i również czat obsługiwany przez sztuczną inteligencję to potrzebna jest ludzka kreatywność, dzięki której autor wpadnie na pomysł napisania danego programu,\n",
        "*   komponowanie muzyki, ponieważ podobnie jak w przykładzie wyżej potrzebna jest w tym przypadku ludzka ręka pod kątem kreatywnym jak i również inteligencji emocjonalnej,\n",
        "*   testowanie oprogramowania, ponieważ jeżeli jako oprogramowanie komputerowe zaliczymy również grę komputerową to potrzebna jest ingerencja człowieka, a w tym przypadku testera gier który zwróci uwagę na szczegółowe elementy danej produkcji chociażby pod kątem graficznym/estetycznym\n",
        "\n",
        "Zad. 2\n",
        "\n",
        "\n",
        "*   streszczanie tekstu, ponieważ sztuczna inteligencja za pośrednictwem odpowiednio napisanego przez nas polecenia jest w stanie streścić dany tekst, przy okazji wyodrębniając z niego wszystkie bardziej, bądź mniej np. szczegółowe informacje bazując na artykułach z internetu,\n",
        "\n",
        "*   tłumaczenie tekstu, ponieważ już aktualnie mamy napisane programy oraz strony internetowe, które tłumaczą tekst z danego języka na nasz ojczysty, aczkolwiek nie zawsze jest to w 100% idealne przełożenie, ale zdecydowanie poradzi sobie np. z angielskim na poziomie komunikatywnym\n",
        "*   klasyfikacja tesktu do kategorii tematycznych, ponieważ istnieją już odpowiednio zaprogramowane algorytmy które zgodnie z przytoczonym problemem\n",
        "\n",
        "\n",
        "*   odpowiadanie na proste pytania zadawane w języku naturalnym\n",
        "\n",
        "\n",
        "*   Element listy\n",
        "*   Element listy\n",
        "\n",
        "\n",
        "\n",
        "\n",
        "\n",
        "\n",
        "\n",
        "\n"
      ],
      "metadata": {
        "id": "6wr_XcuXGvGH"
      }
    }
  ]
}