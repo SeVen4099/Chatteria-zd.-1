{
  "nbformat": 4,
  "nbformat_minor": 0,
  "metadata": {
    "colab": {
      "provenance": [],
      "authorship_tag": "ABX9TyMja82ll2jQJ4UaADTJYkGr",
      "include_colab_link": true
    },
    "kernelspec": {
      "name": "python3",
      "display_name": "Python 3"
    },
    "language_info": {
      "name": "python"
    }
  },
  "cells": [
    {
      "cell_type": "markdown",
      "metadata": {
        "id": "view-in-github",
        "colab_type": "text"
      },
      "source": [
        "<a href=\"https://colab.research.google.com/github/SeVen4099/Chatteria-zd.-1/blob/main/Lekcja1.ipynb\" target=\"_parent\"><img src=\"https://colab.research.google.com/assets/colab-badge.svg\" alt=\"Open In Colab\"/></a>"
      ]
    },
    {
      "cell_type": "code",
      "execution_count": null,
      "metadata": {
        "id": "QBgZtapACMW3"
      },
      "outputs": [],
      "source": []
    },
    {
      "cell_type": "markdown",
      "source": [
        "Zad. 1\n",
        "\n",
        "W mojej opinii następujące zadania wymagają inteligencji człowieka:\n",
        "*   Programowanie (pisanie programów komputerowych), ponieważ aby dany program napisać, w tym i również czat obsługiwany przez sztuczną inteligencję to potrzebna jest ludzka kreatywność, dzięki której autor wpadnie na pomysł napisania danego programu.\n",
        "*   Komponowanie muzyki, ponieważ podobnie jak w przykładzie wyżej potrzebna jest w tym przypadku ludzka ręka pod kątem kreatywnym jak i również inteligencji emocjonalnej.\n",
        "*   Testowanie oprogramowania, ponieważ jeżeli jako oprogramowanie komputerowe zaliczymy również grę komputerową to potrzebna jest ingerencja człowieka, a w tym przypadku testera gier który zwróci uwagę na graficzne/estetyczne błędy danej produkcji.\n",
        "*   Rozwiązywanie układów równań/symboliczne obliczanie pochodnych funkcji/symboliczne całkowanie funkcji, ponieważ co prawda aktualnie posiadamy boty które potrafią obliczyć podstawowe równania, aczkolwiek przy bardziej skomplikowanych zadaniach, jak te wymienione w tym podpunkcie, niezbędna będzie ingerencja człowieka który rozumie koncepcje matematyczne i umiejętnie je wykorzysta.\n",
        "\n",
        "\n",
        "Zad. 2\n",
        "\n",
        "W mojej opinii następujące problemy można uznać za mieszczące się w zakresie sztucznej inteligencji:\n",
        "*   Streszczanie tekstu, ponieważ sztuczna inteligencja za pośrednictwem odpowiednio napisanego przez nas polecenia jest w stanie streścić dany tekst, przy okazji wyodrębniając z niego wszystkie bardziej, bądź mniej np. szczegółowe informacje bazując na artykułach z internetu.\n",
        "*   Tłumaczenie tekstu, ponieważ już aktualnie mamy napisane programy oraz strony internetowe, które tłumaczą tekst z danego języka na nasz ojczysty, aczkolwiek nie zawsze jest to w 100% idealne przełożenie, ale zdecydowanie poradzi sobie np. z angielskim na poziomie komunikatywnym.\n",
        "*   Klasyfikacja tesktu do kategorii tematycznych, ponieważ istnieje już proces przypisywania wstępnie ustalonych kategorii do otwartych dokumentów tekstowych za pomocą systemów sztucznej inteligencji.\n",
        "*   Odpowiadanie na proste pytania zadawane w języku naturalnym, ponieważ sztuczna inteligencja wykorzystuje baze informacji zgromadzonych na internecie w postaci różnych artykułów, dzięki którym jest w stanie odpowiedzieć na takie proste pytania, jak np. Jaka jest stolica Polski?\n",
        "*   Kierowanie samochodem, ponieważ już teraz w Stanach Zjednoczonych jeżdżą autonomiczne taksówki, które nie wymagają do ich prowadzenia kierowcy, a to wszystko dzięki najnowszym systemom wprowadzonym do sztucznej inteligencji tj. rozpoznawanie zagrożenia na drodze i znaków drogowych.\n",
        "\n",
        "Zad. 3\n",
        "\n",
        "W mojej opinii rodzaje komunikacji, które mogą być obecnie skutecznie imitowane przez sztuczne systemy to:\n",
        "*   Odpowiadanie na pytania klientów w telefonicznej infolinii, ponieważ już teraz niektóre firmy stosują taką praktykę poprzez zaprogramowanie bota z syntezatorem mowy, który odpowiada na słowne pytania rozmówcy związane z danym problemem.\n",
        "*   Odpowiadanie na pytania klientów w internetowej infolinii, ponieważ tutaj akurat większość firm tworzy sztucznych asystentów w postaci botów tekstowych, którzy również odpowiedzą na problem zadany przez rozmówcę, aczkolwiek najczęściej wszystko to sprowadza się do\n",
        "\n",
        "\n",
        "\n",
        "\n",
        "\n",
        "\n",
        "\n",
        "\n",
        "\n",
        "\n",
        "\n",
        "\n",
        "\n",
        "\n"
      ],
      "metadata": {
        "id": "6wr_XcuXGvGH"
      }
    }
  ]
}